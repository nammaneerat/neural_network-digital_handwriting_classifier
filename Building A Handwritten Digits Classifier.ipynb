{
 "cells": [
  {
   "cell_type": "markdown",
   "metadata": {
    "collapsed": true
   },
   "source": [
    "# Building a Handwriting Digits Classifier"
   ]
  },
  {
   "cell_type": "markdown",
   "metadata": {},
   "source": [
    "This is a part of the Dataquest guided project. This project aims to build the model are able to classify handwriting digits. We will use the k-nearest neighbors model and also neural network with a single hidden layer and 2 hidden layers. Our goal is to examine which models provide us the higher range of accuracy scores and do not overfit the dataset."
   ]
  },
  {
   "cell_type": "code",
   "execution_count": 123,
   "metadata": {},
   "outputs": [],
   "source": [
    "from sklearn.datasets import load_digits\n",
    "import pandas as pd\n",
    "import numpy as np\n",
    "import matplotlib.pyplot as plt\n",
    "\n",
    "%matplotlib inline"
   ]
  },
  {
   "cell_type": "markdown",
   "metadata": {},
   "source": [
    "## Working with Image Data"
   ]
  },
  {
   "cell_type": "code",
   "execution_count": 124,
   "metadata": {},
   "outputs": [
    {
     "data": {
      "text/plain": [
       "dict_keys(['data', 'target', 'frame', 'feature_names', 'target_names', 'images', 'DESCR'])"
      ]
     },
     "execution_count": 124,
     "metadata": {},
     "output_type": "execute_result"
    }
   ],
   "source": [
    "digit_data = load_digits()\n",
    "digit_data.keys()"
   ]
  },
  {
   "cell_type": "code",
   "execution_count": 125,
   "metadata": {},
   "outputs": [],
   "source": [
    "# transform numpy arrays to Dataframe\n",
    "data = pd.DataFrame(digit_data['data'])\n",
    "target = pd.Series(digit_data['target'])"
   ]
  },
  {
   "cell_type": "code",
   "execution_count": 126,
   "metadata": {},
   "outputs": [
    {
     "data": {
      "text/html": [
       "<div>\n",
       "<style scoped>\n",
       "    .dataframe tbody tr th:only-of-type {\n",
       "        vertical-align: middle;\n",
       "    }\n",
       "\n",
       "    .dataframe tbody tr th {\n",
       "        vertical-align: top;\n",
       "    }\n",
       "\n",
       "    .dataframe thead th {\n",
       "        text-align: right;\n",
       "    }\n",
       "</style>\n",
       "<table border=\"1\" class=\"dataframe\">\n",
       "  <thead>\n",
       "    <tr style=\"text-align: right;\">\n",
       "      <th></th>\n",
       "      <th>0</th>\n",
       "      <th>1</th>\n",
       "      <th>2</th>\n",
       "      <th>3</th>\n",
       "      <th>4</th>\n",
       "      <th>5</th>\n",
       "      <th>6</th>\n",
       "      <th>7</th>\n",
       "      <th>8</th>\n",
       "      <th>9</th>\n",
       "      <th>...</th>\n",
       "      <th>54</th>\n",
       "      <th>55</th>\n",
       "      <th>56</th>\n",
       "      <th>57</th>\n",
       "      <th>58</th>\n",
       "      <th>59</th>\n",
       "      <th>60</th>\n",
       "      <th>61</th>\n",
       "      <th>62</th>\n",
       "      <th>63</th>\n",
       "    </tr>\n",
       "  </thead>\n",
       "  <tbody>\n",
       "    <tr>\n",
       "      <th>0</th>\n",
       "      <td>0.0</td>\n",
       "      <td>0.0</td>\n",
       "      <td>5.0</td>\n",
       "      <td>13.0</td>\n",
       "      <td>9.0</td>\n",
       "      <td>1.0</td>\n",
       "      <td>0.0</td>\n",
       "      <td>0.0</td>\n",
       "      <td>0.0</td>\n",
       "      <td>0.0</td>\n",
       "      <td>...</td>\n",
       "      <td>0.0</td>\n",
       "      <td>0.0</td>\n",
       "      <td>0.0</td>\n",
       "      <td>0.0</td>\n",
       "      <td>6.0</td>\n",
       "      <td>13.0</td>\n",
       "      <td>10.0</td>\n",
       "      <td>0.0</td>\n",
       "      <td>0.0</td>\n",
       "      <td>0.0</td>\n",
       "    </tr>\n",
       "    <tr>\n",
       "      <th>1</th>\n",
       "      <td>0.0</td>\n",
       "      <td>0.0</td>\n",
       "      <td>0.0</td>\n",
       "      <td>12.0</td>\n",
       "      <td>13.0</td>\n",
       "      <td>5.0</td>\n",
       "      <td>0.0</td>\n",
       "      <td>0.0</td>\n",
       "      <td>0.0</td>\n",
       "      <td>0.0</td>\n",
       "      <td>...</td>\n",
       "      <td>0.0</td>\n",
       "      <td>0.0</td>\n",
       "      <td>0.0</td>\n",
       "      <td>0.0</td>\n",
       "      <td>0.0</td>\n",
       "      <td>11.0</td>\n",
       "      <td>16.0</td>\n",
       "      <td>10.0</td>\n",
       "      <td>0.0</td>\n",
       "      <td>0.0</td>\n",
       "    </tr>\n",
       "    <tr>\n",
       "      <th>2</th>\n",
       "      <td>0.0</td>\n",
       "      <td>0.0</td>\n",
       "      <td>0.0</td>\n",
       "      <td>4.0</td>\n",
       "      <td>15.0</td>\n",
       "      <td>12.0</td>\n",
       "      <td>0.0</td>\n",
       "      <td>0.0</td>\n",
       "      <td>0.0</td>\n",
       "      <td>0.0</td>\n",
       "      <td>...</td>\n",
       "      <td>5.0</td>\n",
       "      <td>0.0</td>\n",
       "      <td>0.0</td>\n",
       "      <td>0.0</td>\n",
       "      <td>0.0</td>\n",
       "      <td>3.0</td>\n",
       "      <td>11.0</td>\n",
       "      <td>16.0</td>\n",
       "      <td>9.0</td>\n",
       "      <td>0.0</td>\n",
       "    </tr>\n",
       "    <tr>\n",
       "      <th>3</th>\n",
       "      <td>0.0</td>\n",
       "      <td>0.0</td>\n",
       "      <td>7.0</td>\n",
       "      <td>15.0</td>\n",
       "      <td>13.0</td>\n",
       "      <td>1.0</td>\n",
       "      <td>0.0</td>\n",
       "      <td>0.0</td>\n",
       "      <td>0.0</td>\n",
       "      <td>8.0</td>\n",
       "      <td>...</td>\n",
       "      <td>9.0</td>\n",
       "      <td>0.0</td>\n",
       "      <td>0.0</td>\n",
       "      <td>0.0</td>\n",
       "      <td>7.0</td>\n",
       "      <td>13.0</td>\n",
       "      <td>13.0</td>\n",
       "      <td>9.0</td>\n",
       "      <td>0.0</td>\n",
       "      <td>0.0</td>\n",
       "    </tr>\n",
       "    <tr>\n",
       "      <th>4</th>\n",
       "      <td>0.0</td>\n",
       "      <td>0.0</td>\n",
       "      <td>0.0</td>\n",
       "      <td>1.0</td>\n",
       "      <td>11.0</td>\n",
       "      <td>0.0</td>\n",
       "      <td>0.0</td>\n",
       "      <td>0.0</td>\n",
       "      <td>0.0</td>\n",
       "      <td>0.0</td>\n",
       "      <td>...</td>\n",
       "      <td>0.0</td>\n",
       "      <td>0.0</td>\n",
       "      <td>0.0</td>\n",
       "      <td>0.0</td>\n",
       "      <td>0.0</td>\n",
       "      <td>2.0</td>\n",
       "      <td>16.0</td>\n",
       "      <td>4.0</td>\n",
       "      <td>0.0</td>\n",
       "      <td>0.0</td>\n",
       "    </tr>\n",
       "  </tbody>\n",
       "</table>\n",
       "<p>5 rows × 64 columns</p>\n",
       "</div>"
      ],
      "text/plain": [
       "    0    1    2     3     4     5    6    7    8    9   ...   54   55   56  \\\n",
       "0  0.0  0.0  5.0  13.0   9.0   1.0  0.0  0.0  0.0  0.0  ...  0.0  0.0  0.0   \n",
       "1  0.0  0.0  0.0  12.0  13.0   5.0  0.0  0.0  0.0  0.0  ...  0.0  0.0  0.0   \n",
       "2  0.0  0.0  0.0   4.0  15.0  12.0  0.0  0.0  0.0  0.0  ...  5.0  0.0  0.0   \n",
       "3  0.0  0.0  7.0  15.0  13.0   1.0  0.0  0.0  0.0  8.0  ...  9.0  0.0  0.0   \n",
       "4  0.0  0.0  0.0   1.0  11.0   0.0  0.0  0.0  0.0  0.0  ...  0.0  0.0  0.0   \n",
       "\n",
       "    57   58    59    60    61   62   63  \n",
       "0  0.0  6.0  13.0  10.0   0.0  0.0  0.0  \n",
       "1  0.0  0.0  11.0  16.0  10.0  0.0  0.0  \n",
       "2  0.0  0.0   3.0  11.0  16.0  9.0  0.0  \n",
       "3  0.0  7.0  13.0  13.0   9.0  0.0  0.0  \n",
       "4  0.0  0.0   2.0  16.0   4.0  0.0  0.0  \n",
       "\n",
       "[5 rows x 64 columns]"
      ]
     },
     "execution_count": 126,
     "metadata": {},
     "output_type": "execute_result"
    }
   ],
   "source": [
    "data.head()"
   ]
  },
  {
   "cell_type": "code",
   "execution_count": 127,
   "metadata": {},
   "outputs": [
    {
     "data": {
      "image/png": "[encoded data removed]",
      "text/plain": [
       "<Figure size 432x288 with 6 Axes>"
      ]
     },
     "metadata": {
      "needs_background": "light"
     },
     "output_type": "display_data"
    }
   ],
   "source": [
    "# visualize some of the images in the dataset\n",
    "fig, axes = plt.subplots(2,3)\n",
    "axes[0,0].imshow(data.iloc[0].values.reshape(8,8), cmap='gray_r')\n",
    "axes[0,1].imshow(data.iloc[50].values.reshape(8,8), cmap='gray_r')\n",
    "axes[0,2].imshow(data.iloc[100].values.reshape(8,8), cmap='gray_r')\n",
    "\n",
    "axes[1,0].imshow(data.iloc[200].values.reshape(8,8), cmap='gray_r')\n",
    "axes[1,1].imshow(data.iloc[250].values.reshape(8,8), cmap='gray_r')\n",
    "axes[1,2].imshow(data.iloc[300].values.reshape(8,8), cmap='gray_r')\n",
    "plt.show()"
   ]
  },
  {
   "cell_type": "markdown",
   "metadata": {},
   "source": [
    "## K-Nearest Neighbors Model"
   ]
  },
  {
   "cell_type": "code",
   "execution_count": 149,
   "metadata": {},
   "outputs": [],
   "source": [
    "from sklearn.neighbors import KNeighborsClassifier\n",
    "from sklearn.model_selection import KFold\n",
    "from sklearn.metrics import accuracy_score\n",
    "\n",
    "def train_knn(nneighbors, train_features, train_target):\n",
    "    model = KNeighborsClassifier(n_neighbors=nneighbors)\n",
    "    model.fit(train_features, train_target)\n",
    "    return model\n",
    "\n",
    "def test_knn(model, test_features, test_target):\n",
    "    predictions = model.predict(test_features)\n",
    "    accuracy = accuracy_score(test_target, predictions)\n",
    "    return accuracy\n",
    "\n",
    "def cross_validate_knn(nneighbors, data, target):\n",
    "    accuracies = []\n",
    "    kf = KFold(n_splits=4, shuffle=True, random_state=1)\n",
    "    for train_index, test_index in kf.split(data):\n",
    "        train_features, test_features = data.loc[train_index], data.loc[test_index]\n",
    "        train_target, test_target = target.loc[train_index], target.loc[test_index]\n",
    "        model = train_knn(nneighbors, train_features, train_target)\n",
    "        accuracy = test_knn(model, test_features, test_target)\n",
    "        accuracies.append(accuracy)  \n",
    "    return np.mean(accuracies)"
   ]
  },
  {
   "cell_type": "code",
   "execution_count": 155,
   "metadata": {},
   "outputs": [
    {
     "data": {
      "image/png": "[encoded data removed]",
      "text/plain": [
       "<Figure size 720x288 with 1 Axes>"
      ]
     },
     "metadata": {
      "needs_background": "light"
     },
     "output_type": "display_data"
    }
   ],
   "source": [
    "mean_accuracies = []\n",
    "\n",
    "for k in range(1,11,1):\n",
    "    mean_accuracies.append(cross_validate_knn(k, data, target))\n",
    "    \n",
    "plt.figure(figsize=(10,4))\n",
    "plt.plot(np.arange(1,11), mean_accuracies)\n",
    "plt.xlabel('Number of Neighbors')\n",
    "plt.ylabel('Mean Accuracy Scores')\n",
    "plt.xticks(np.arange(1,11))\n",
    "plt.show()"
   ]
  },
  {
   "cell_type": "markdown",
   "metadata": {},
   "source": [
    "### Findings:"
   ]
  },
  {
   "cell_type": "markdown",
   "metadata": {},
   "source": [
    "When the number of neighbors using in the k-nearest neighbors (knn) model is equal to 3, the accuracy score becomes the highest (~ 0.986). Overall, the mean accuracy scores of neighbor numbers in a range of 1 to 10 are above 0.97 or 97%. Although the knn model seems to work well, there are disadvantages using it, i.e. not being able to further explore since there is no model representation and using high memory."
   ]
  },
  {
   "cell_type": "markdown",
   "metadata": {},
   "source": [
    "## Neural Network with One Hidden Layer"
   ]
  },
  {
   "cell_type": "code",
   "execution_count": 167,
   "metadata": {},
   "outputs": [],
   "source": [
    "from sklearn.neural_network import MLPClassifier\n",
    "\n",
    "def train_nn(neurons, train_features, train_target):\n",
    "    model = MLPClassifier(hidden_layer_sizes=(neurons,), max_iter=1000)\n",
    "    model.fit(train_features, train_target)\n",
    "    return model\n",
    "\n",
    "def test_nn(model, test_features, test_target):\n",
    "    predictions = model.predict(test_features)\n",
    "    accuracy = accuracy_score(test_target, predictions)\n",
    "    return accuracy\n",
    "\n",
    "def cross_validate_nn(n, data, target):\n",
    "    accuracies = []\n",
    "    kf = KFold(n_splits=4, shuffle=True, random_state=1)\n",
    "    for train_index, test_index in kf.split(data):\n",
    "        train_features, test_features = data.loc[train_index], data.loc[test_index]\n",
    "        train_target, test_target = target.loc[train_index], target.loc[test_index]\n",
    "        model = train_nn(n, train_features, train_target)\n",
    "        accuracy = test_nn(model, test_features, test_target)\n",
    "        accuracies.append(accuracy)  \n",
    "    return np.mean(accuracies)"
   ]
  },
  {
   "cell_type": "code",
   "execution_count": 168,
   "metadata": {},
   "outputs": [
    {
     "name": "stderr",
     "output_type": "stream",
     "text": [
      "/Users/nammaneerath/anaconda3/envs/datasci/lib/python3.7/site-packages/sklearn/neural_network/_multilayer_perceptron.py:585: ConvergenceWarning: Stochastic Optimizer: Maximum iterations (1000) reached and the optimization hasn't converged yet.\n",
      "  % self.max_iter, ConvergenceWarning)\n"
     ]
    },
    {
     "data": {
      "image/png": "[encoded data removed]",
      "text/plain": [
       "<Figure size 720x288 with 1 Axes>"
      ]
     },
     "metadata": {
      "needs_background": "light"
     },
     "output_type": "display_data"
    }
   ],
   "source": [
    "neurons = [2**x for x in range(3,9)]\n",
    "nn_accuracies = []\n",
    "for n in neurons:\n",
    "    nn_accuracies.append(cross_validate_nn(n, data, target))\n",
    "\n",
    "plt.figure(figsize=(10,4))\n",
    "plt.plot(neurons, nn_accuracies)\n",
    "plt.xlabel('Number of Neurons in a Single Hidden Layer')\n",
    "plt.ylabel('Mean Accuracy Scores')\n",
    "plt.show()"
   ]
  },
  {
   "cell_type": "markdown",
   "metadata": {},
   "source": [
    "### Findings:"
   ]
  },
  {
   "cell_type": "markdown",
   "metadata": {},
   "source": [
    "By increasing the number of neurons in a hidden layer, we found that the accuracy score significantly changes from ~0.935 (or 93.5%) to 0.975 (or 97.5%). \n",
    "\n",
    "Overall, the k-nearst neighbor model seems to be better to use since the accuracy overall is relatively high (> 97.8%). Thus, we do not need to use neural network with a single layer for this case."
   ]
  },
  {
   "cell_type": "markdown",
   "metadata": {},
   "source": [
    "## Is there any model starting to overfit?"
   ]
  },
  {
   "cell_type": "code",
   "execution_count": 178,
   "metadata": {},
   "outputs": [],
   "source": [
    "def test_overfit(model, n, data, target):\n",
    "    train_accuracies = []\n",
    "    test_accuracies = []\n",
    "    kf = KFold(n_splits=4, shuffle=True, random_state=1)\n",
    "    for train_index, test_index in kf.split(data):\n",
    "        train_features, test_features = data.loc[train_index], data.loc[test_index]\n",
    "        train_target, test_target = target.loc[train_index], target.loc[test_index]\n",
    "        if model == 1:\n",
    "            knn = train_knn(n, train_features, train_target)\n",
    "            train_accuracy = test_knn(knn, train_features, train_target)\n",
    "            train_accuracies.append(train_accuracy)\n",
    "            test_accuracy = test_knn(knn, test_features, test_target)\n",
    "            test_accuracies.append(test_accuracy)\n",
    "        elif model == 2:\n",
    "            nn = train_nn(n, train_features, train_target)\n",
    "            train_accuracy = test_nn(nn, train_features, train_target)\n",
    "            train_accuracies.append(train_accuracy)\n",
    "            test_accuracy = test_nn(nn, test_features, test_target)\n",
    "            test_accuracies.append(test_accuracy)\n",
    "    return np.mean(train_accuracies), np.mean(test_accuracies)"
   ]
  },
  {
   "cell_type": "code",
   "execution_count": 161,
   "metadata": {},
   "outputs": [
    {
     "data": {
      "image/png": "[encoded data removed]",
      "text/plain": [
       "<Figure size 720x288 with 1 Axes>"
      ]
     },
     "metadata": {
      "needs_background": "light"
     },
     "output_type": "display_data"
    }
   ],
   "source": [
    "train_knn_accuracies = []\n",
    "test_knn_accuracies = []\n",
    "k = np.arange(1,11)\n",
    "\n",
    "for ki in k:\n",
    "    train_accuracy, test_accuracy = test_overfit(1, ki, data, target)\n",
    "    train_knn_accuracies.append(train_accuracy)\n",
    "    test_knn_accuracies.append(test_accuracy)\n",
    "    \n",
    "plt.figure(figsize=(10,4))\n",
    "plt.plot(k, train_knn_accuracies, color='blue', label='train')\n",
    "plt.plot(k, test_knn_accuracies, color='red', label='test')\n",
    "plt.xlabel('Number of Neighbors')\n",
    "plt.ylabel('Mean Accuracy Scores')\n",
    "plt.xticks(np.arange(1,11))\n",
    "plt.legend()\n",
    "plt.show()"
   ]
  },
  {
   "cell_type": "code",
   "execution_count": 163,
   "metadata": {},
   "outputs": [
    {
     "data": {
      "image/png": "[encoded data removed]",
      "text/plain": [
       "<Figure size 720x288 with 1 Axes>"
      ]
     },
     "metadata": {
      "needs_background": "light"
     },
     "output_type": "display_data"
    }
   ],
   "source": [
    "neurons = [2**x for x in range(3,9)]\n",
    "train_nn_accuracies = []\n",
    "test_nn_accuracies = []\n",
    "for n in neurons:\n",
    "    train_accuracy, test_accuracy = test_overfit(2, n, data, target)\n",
    "    train_nn_accuracies.append(train_accuracy)\n",
    "    test_nn_accuracies.append(test_accuracy)\n",
    "    \n",
    "plt.figure(figsize=(10,4))\n",
    "plt.plot(neurons, train_nn_accuracies, color='blue', label='train')\n",
    "plt.plot(neurons, test_nn_accuracies, color='red', label='test')\n",
    "plt.xlabel('Number of Neurons in a Single Hidden Layer')\n",
    "plt.ylabel('Mean Accuracy Scores')\n",
    "plt.legend()\n",
    "plt.show()"
   ]
  },
  {
   "cell_type": "markdown",
   "metadata": {},
   "source": [
    "### Findings:"
   ]
  },
  {
   "cell_type": "markdown",
   "metadata": {},
   "source": [
    "For k-nearest neighbors model, the accuracy scores between train and test sets are very similar (< 1% difference). It is not likely that the model overfit the data. Similarly, for the neural network with a single hidden layer model, the difference between accuracy scores is lower than ~5%. This suggests that the model perform well on both train and test sets.  "
   ]
  },
  {
   "cell_type": "markdown",
   "metadata": {},
   "source": [
    "## Neural Network with Two Hidden Layers"
   ]
  },
  {
   "cell_type": "code",
   "execution_count": 183,
   "metadata": {},
   "outputs": [],
   "source": [
    "def train_nn2(neurons, train_features, train_target):\n",
    "    model = MLPClassifier(hidden_layer_sizes=(neurons,neurons))\n",
    "    model.fit(train_features, train_target)\n",
    "    return model\n",
    "\n",
    "def test_nn2(model, test_features, test_target):\n",
    "    predictions = model.predict(test_features)\n",
    "    accuracy = accuracy_score(test_target, predictions)\n",
    "    return accuracy\n",
    "\n",
    "def cross_validate_nn2(n, data, target):\n",
    "    accuracies = []\n",
    "    kf = KFold(n_splits=4, shuffle=True, random_state=1)\n",
    "    for train_index, test_index in kf.split(data):\n",
    "        train_features, test_features = data.loc[train_index], data.loc[test_index]\n",
    "        train_target, test_target = target.loc[train_index], target.loc[test_index]\n",
    "        model = train_nn2(n, train_features, train_target)\n",
    "        accuracy = test_nn2(model, test_features, test_target)\n",
    "        accuracies.append(accuracy)  \n",
    "    return np.mean(accuracies)"
   ]
  },
  {
   "cell_type": "code",
   "execution_count": 184,
   "metadata": {},
   "outputs": [
    {
     "data": {
      "image/png": "[encoded data removed]",
      "text/plain": [
       "<Figure size 720x288 with 1 Axes>"
      ]
     },
     "metadata": {
      "needs_background": "light"
     },
     "output_type": "display_data"
    }
   ],
   "source": [
    "neurons = [2**x for x in range(6,9)]\n",
    "nn2_accuracies = []\n",
    "for n in neurons:\n",
    "    nn2_accuracies.append(cross_validate_nn2(n, data, target))\n",
    "\n",
    "plt.figure(figsize=(10,4))\n",
    "plt.plot(neurons, nn2_accuracies)\n",
    "plt.xlabel('Number of Neurons in a Single Hidden Layer')\n",
    "plt.ylabel('Mean Accuracy Scores')\n",
    "plt.show()"
   ]
  },
  {
   "cell_type": "markdown",
   "metadata": {},
   "source": [
    "### Does the model start to overfit?"
   ]
  },
  {
   "cell_type": "code",
   "execution_count": 187,
   "metadata": {},
   "outputs": [],
   "source": [
    "def test_overfit_nn2(n, data, target):\n",
    "    train_accuracies = []\n",
    "    test_accuracies = []\n",
    "    kf = KFold(n_splits=4, shuffle=True, random_state=1)\n",
    "    for train_index, test_index in kf.split(data):\n",
    "        train_features, test_features = data.loc[train_index], data.loc[test_index]\n",
    "        train_target, test_target = target.loc[train_index], target.loc[test_index]\n",
    "\n",
    "    nn2 = train_nn2(n, train_features, train_target)\n",
    "    train_accuracy = test_nn2(nn2, train_features, train_target)\n",
    "    train_accuracies.append(train_accuracy)\n",
    "    test_accuracy = test_nn2(nn2, test_features, test_target)\n",
    "    test_accuracies.append(test_accuracy)\n",
    "    return np.mean(train_accuracies), np.mean(test_accuracies)"
   ]
  },
  {
   "cell_type": "code",
   "execution_count": 190,
   "metadata": {},
   "outputs": [
    {
     "data": {
      "image/png": "[encoded data removed]",
      "text/plain": [
       "<Figure size 720x288 with 1 Axes>"
      ]
     },
     "metadata": {
      "needs_background": "light"
     },
     "output_type": "display_data"
    }
   ],
   "source": [
    "neurons = [2**x for x in range(6,9)]\n",
    "train_nn2_accuracies = []\n",
    "test_nn2_accuracies = []\n",
    "for n in neurons:\n",
    "    train_accuracy, test_accuracy = test_overfit_nn2(n, data, target)\n",
    "    train_nn2_accuracies.append(train_accuracy)\n",
    "    test_nn2_accuracies.append(test_accuracy)\n",
    "    \n",
    "plt.figure(figsize=(10,4))\n",
    "plt.plot(neurons, train_nn2_accuracies, color='blue', label='train')\n",
    "plt.plot(neurons, test_nn2_accuracies, color='red', label='test')\n",
    "plt.xlabel('Number of Neurons in a Single Hidden Layer')\n",
    "plt.ylabel('Mean Accuracy Scores')\n",
    "plt.legend()\n",
    "plt.show()"
   ]
  },
  {
   "cell_type": "markdown",
   "metadata": {},
   "source": [
    "### Findings:"
   ]
  },
  {
   "cell_type": "markdown",
   "metadata": {},
   "source": [
    "The difference between accuracy scores between train and test sets is < 3.5% suggesting that it's unlikely that the model overfits the data. Overall, the accuracy is in the range of 97% - 98%, which is improved from the model of neural network with a single layer."
   ]
  },
  {
   "cell_type": "markdown",
   "metadata": {},
   "source": [
    "## Summary"
   ]
  },
  {
   "cell_type": "markdown",
   "metadata": {},
   "source": [
    "- The neural network with 2 hidden layers seem to provide a higher range of the mean accuracy scores than the other two models (k-nearest neighbors and neural network with a single hidden layer). Increasing hidden layers likely increases a mean accuracy.\n",
    "- All three models seem to not overfit the data since they perform well on both train and test sets. Note that the fold number used in KFold method is assigned to 4. For the future work, we can change this number and observe how the fold numbers affect the model performance."
   ]
  },
  {
   "cell_type": "code",
   "execution_count": null,
   "metadata": {},
   "outputs": [],
   "source": []
  }
 ],
 "metadata": {
  "anaconda-cloud": {},
  "kernelspec": {
   "display_name": "Python 3",
   "language": "python",
   "name": "python3"
  },
  "language_info": {
   "codemirror_mode": {
    "name": "ipython",
    "version": 3
   },
   "file_extension": ".py",
   "mimetype": "text/x-python",
   "name": "python",
   "nbconvert_exporter": "python",
   "pygments_lexer": "ipython3",
   "version": "3.7.8"
  }
 },
 "nbformat": 4,
 "nbformat_minor": 2
}
